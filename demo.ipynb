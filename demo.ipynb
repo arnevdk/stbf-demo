{
 "cells": [
  {
   "cell_type": "markdown",
   "source": [
    "# BCI Decodering m.b.v. de Spatiotemporele beamformer\n",
    "\n",
    "Deze demo toont hoe uit een hersensignaal afgeleid kan worden welk\n",
    "target een gebruiker van een brein-computer interface aanduidt.\n",
    "\n",
    "## Dataset\n",
    "\n",
    "Om te kunnen beginnen, word een publiek beschikbare dataset [1] gedownload.\n",
    "Deze set bevat data van EEG-experimenten waarin gebruikers telkens\n",
    "het aangeduide object op het scherm moet selecteren met hun attentie.\n",
    "\n",
    "De dataset bestaat uit meerdere stukjes EEG-signaal van een bepaalde tijdsduur\n",
    "(epochs) met elk de voltages gemeten met 8 verschillende elektroden.\n",
    "Elke epoch begint op het moment dat een target op het scherm flikkert.\n",
    "Sommige van deze epochs komen overeen met het target dat de gebruiker probeert te selecteren\n",
    "en bevatten dus een respons die gedetecteerd kan worden.\n"
   ],
   "metadata": {
    "collapsed": false,
    "pycharm": {
     "name": "#%% md\n"
    }
   }
  },
  {
   "cell_type": "code",
   "execution_count": 55,
   "metadata": {
    "collapsed": true
   },
   "outputs": [
    {
     "name": "stdout",
     "output_type": "stream",
     "text": [
      "Adding metadata with 4 columns\n",
      "Replacing existing metadata with 4 columns\n",
      "1600 matching events found\n",
      "No baseline correction applied\n",
      "0 projection items activated\n",
      "0 bad epochs dropped\n"
     ]
    },
    {
     "data": {
      "text/plain": "<EpochsArray |  1600 events (all good), -0.2 - 1.196 sec, baseline off, ~34.2 MB, data loaded, with metadata,\n 'stimulus/1': 200\n 'stimulus/2': 200\n 'stimulus/3': 200\n 'stimulus/4': 200\n 'stimulus/5': 200\n 'stimulus/6': 200\n 'stimulus/7': 200\n 'stimulus/8': 200>",
      "text/html": "\n<table class=\"table table-hover\">\n    <tr>\n        <th>Number of events</th>\n        <td>1600</td>\n    </tr>\n    <tr>\n        <th>Events</th>\n        <td>stimulus/1: 200<br>stimulus/2: 200<br>stimulus/3: 200<br>stimulus/4: 200<br>stimulus/5: 200<br>stimulus/6: 200<br>stimulus/7: 200<br>stimulus/8: 200<br></td>\n    </tr>\n    <tr>\n        <th>Time range</th>\n        <td>-0.200 – 1.196 sec</td>\n    </tr>\n    <tr>\n        <th>Baseline</th>\n        <td>off</td>\n    </tr>\n</table>\n"
     },
     "execution_count": 55,
     "metadata": {},
     "output_type": "execute_result"
    }
   ],
   "source": [
    "from bciaut_to_mne import convert_to_mne\n",
    "import os\n",
    "from kaggle.api.kaggle_api_extended import KaggleApi\n",
    "\n",
    "# Download the BCIAUT-P300 dataset from Kaggle\n",
    "# If it doesn't already exist\n",
    "if not os.path.exists('data'):\n",
    "    kaggle = KaggleApi()\n",
    "    kaggle.authenticate()\n",
    "    kaggle.dataset_download_cli(dataset='disbeat/bciaut-p300',\n",
    "                                unzip=True)\n",
    "# Convert the .mat files to MNE format epochs\n",
    "epochs = convert_to_mne('data/SBJ01/S01/Train/trainData.mat')\n",
    "epochs"
   ]
  },
  {
   "cell_type": "markdown",
   "source": [
    "Als een aantal epochs achter elkaar geplakt zouden worden,\n",
    "zouden ze er ongeveer zo uitzien:"
   ],
   "metadata": {
    "collapsed": false,
    "pycharm": {
     "name": "#%% md\n"
    }
   }
  },
  {
   "cell_type": "code",
   "execution_count": null,
   "outputs": [],
   "source": [
    "# Plot first 10 epochs\n",
    "epochs[:10].plot(show_scrollbars=False);"
   ],
   "metadata": {
    "collapsed": false,
    "pycharm": {
     "name": "#%%\n",
     "is_executing": true
    }
   }
  },
  {
   "cell_type": "markdown",
   "source": [
    "## Ruis verwijderen\n",
    "\n",
    "EEG-data wordt heel gemakkelijk beïnvloed door elektrische apparaten,\n",
    "bewegingen van de proefpersoon of andere activiteit in het brein waar\n",
    "we niet in geïnteresseerd zijn.\n",
    "Een EEG-signaal is daarom soms lastig te decoderen omdat het veel\n",
    "ruis bevat.\n",
    "Er worden een aantal stappen uitgevoerd om een deel van deze ruis te\n",
    "verwijderen voor de verdere analyse kan beginnen:\n",
    "\n",
    "\n",
    "1. Bepaalde frequentiebanden van het signaal worden weggefilterd\n",
    "1. De epochs ingekort zodat ze enkel de respons bevatten en zo weinig\n",
    "   mogelijk andere activiteit.\n",
    "1. Er wordt gecompenseerd voor het feit dat sommige elektroden\n",
    "    beter contact maken dan andere, door de waarden van alle elektroden\n",
    "    naar hetzelfde bereik te schalen."
   ],
   "metadata": {
    "collapsed": false,
    "pycharm": {
     "name": "#%% md\n"
    }
   }
  },
  {
   "cell_type": "code",
   "execution_count": null,
   "outputs": [],
   "source": [
    "from mne.decoding import Scaler\n",
    "from mne import EpochsArray\n",
    "\n",
    "# Low-pass filter epochs with  16Hz cutoff\n",
    "epochs.filter(l_freq=None, h_freq=16)\n",
    "# Crop epochs to length containing signal\n",
    "epochs.crop(tmin=0, tmax=1.0)\n",
    "# Scale epoch channels to unit variance\n",
    "scaler = Scaler(epochs.info, scalings='median')\n",
    "epochs_data = scaler.fit_transform(epochs.get_data())\n",
    "# Reconstruct epochs datastructure\n",
    "epochs = EpochsArray(epochs_data, info=epochs.info, tmin=epochs.tmin,\n",
    "                     events=epochs.events, event_id=epochs.event_id,\n",
    "                     metadata=epochs.metadata)"
   ],
   "metadata": {
    "collapsed": false,
    "pycharm": {
     "name": "#%%\n",
     "is_executing": true
    }
   }
  },
  {
   "cell_type": "markdown",
   "source": [
    "De epochs zien er nu veel properder uit, maar zijn nog steeds vrij ruizig."
   ],
   "metadata": {
    "collapsed": false,
    "pycharm": {
     "name": "#%% md\n"
    }
   }
  },
  {
   "cell_type": "code",
   "execution_count": null,
   "outputs": [],
   "source": [
    "# Plot first 10 epochs\n",
    "epochs[:10].plot(scalings=dict(eeg=1), show_scrollbars=False);"
   ],
   "metadata": {
    "collapsed": false,
    "pycharm": {
     "name": "#%%\n",
     "is_executing": true
    }
   }
  },
  {
   "cell_type": "markdown",
   "source": [
    "Daarom kijken we meestal naar het gemiddelde van veel epochs,\n",
    "om enkel het signaal dat ze gemeenschappelijk bevatten over te houden en de rest te laten wegvallen.\n",
    "Als we dit doen, zien we al duidelijk het verschil tussen het gemiddelde van de geselecteerde epochs\n",
    "en het gemiddelde van de niet geselecteerde epochs."
   ],
   "metadata": {
    "collapsed": false,
    "pycharm": {
     "name": "#%% md\n"
    }
   }
  },
  {
   "cell_type": "code",
   "execution_count": null,
   "outputs": [],
   "source": [
    "plot_kwargs =dict(spatial_colors=True,scalings=dict(eeg=1),\n",
    "                 units=dict(eeg='Standard deviations'), hline=[0])\n",
    "# Calculate average selected epoch\n",
    "avg_not_selected = epochs['stimulus != cue'].average()\n",
    "avg_not_selected.plot(ylim=dict(eeg=[-0.4, 0.4]),\n",
    "                      titles=dict(eeg='Niet geselecteerd'),\n",
    "                      **plot_kwargs)\n",
    "# Calculate average not-selected epoch\n",
    "avg_selected = epochs['stimulus == cue'].average()\n",
    "avg_selected.plot(ylim=dict(eeg=[-0.4, 0.4]),\n",
    "                  titles=dict(eeg='Geselecteerd'),\n",
    "                  **plot_kwargs);\n"
   ],
   "metadata": {
    "collapsed": false,
    "pycharm": {
     "name": "#%%\n",
     "is_executing": true
    }
   }
  },
  {
   "cell_type": "markdown",
   "source": [
    "## Decodering\n",
    "\n",
    "Om te bepalen of een epoch een respons op een geselecteerd target bevat,\n",
    "wordt gebruik gemaakt van een machine learning\n",
    "algoritme ontwikkeld aan de onderzoeksgroep voor Computationele Neurowetenschappen aan de KU Leuven:\n",
    "de spatiotemporele beamformer [2,3,4].\n",
    "Deze bepaalt een score voor elke epoch gebaseerd op een voorbeeld van het signaal\n",
    "waarnaar gezocht wordt (activatiepatroon $a$) en informatie over hoe de verschillende kanalen en tijdstippen\n",
    "van een epoch zich tot elkaar verhouden (covariantiematrix $\\Sigma$).\n"
   ],
   "metadata": {
    "collapsed": false,
    "pycharm": {
     "name": "#%% md\n"
    }
   }
  },
  {
   "cell_type": "markdown",
   "source": [
    "Het activatiepatroon $a$ wordt berekend als het verschil van de gemiddelden van de\n",
    "geselecteerde epochs en de niet geselecteerde epochs, zodat er enkel gekeken wordt\n",
    "naar de verschillen tussen beide en de gemeenschappelijke componenten genegeerd worden."
   ],
   "metadata": {
    "collapsed": false,
    "pycharm": {
     "name": "#%% md\n"
    }
   }
  },
  {
   "cell_type": "code",
   "execution_count": null,
   "outputs": [],
   "source": [
    "from mne import combine_evoked\n",
    "\n",
    "# Construct activation pattern\n",
    "activation_pattern = combine_evoked([epochs['stimulus == cue'].average(),\n",
    "                                     epochs['stimulus != cue'].average()],\n",
    "                                    weights=[1,-1])\n",
    "activation_pattern.plot(**plot_kwargs,\n",
    "                        titles=dict(eeg='Activatiepatroon'));\n"
   ],
   "metadata": {
    "collapsed": false,
    "pycharm": {
     "name": "#%%\n",
     "is_executing": true
    }
   }
  },
  {
   "cell_type": "markdown",
   "source": [
    "De covariantiematrix $\\Sigma$ wordt berekend uit alle data."
   ],
   "metadata": {
    "collapsed": false,
    "pycharm": {
     "name": "#%% md\n"
    }
   }
  },
  {
   "cell_type": "code",
   "source": [
    "from mcbf.alg.covariance import SpatiotemporalLedoitWolf\n",
    "import seaborn as sns\n",
    "import matplotlib.pyplot as plt\n",
    "\n",
    "# Estimate covariance and inverse covariance\n",
    "cov_estimator = SpatiotemporalLedoitWolf()\n",
    "cov_estimator.fit(epochs.get_data())\n",
    "sns.heatmap(cov_estimator.covariance_,\n",
    "            cmap='BrBG', vmin=-1, vmax=1)\n",
    "plt.show();\n"
   ],
   "metadata": {
    "collapsed": false,
    "pycharm": {
     "name": "#%%\n",
     "is_executing": true
    }
   },
   "execution_count": null,
   "outputs": []
  },
  {
   "cell_type": "markdown",
   "source": [
    "Tenslotte wordt de beamformer $w$ berekend via de volgende formule:\n",
    "\n",
    "$$ w = \\frac{\\Sigma^{-1} a^\\intercal}{a \\Sigma^{-1} a^\\intercal} $$\n",
    "\n",
    "$w$ bevat gewichten die aangeven hoe zwaar bepaalde kanalen en tijdstippen\n",
    "van een gegeven epoch meetellen in het bepalen van de score voor die epoch."
   ],
   "metadata": {
    "collapsed": false,
    "pycharm": {
     "name": "#%% md\n"
    }
   }
  },
  {
   "cell_type": "code",
   "execution_count": null,
   "outputs": [],
   "source": [
    "from mcbf.alg.beamformer import LCMVBeamformer\n",
    "from mne import EvokedArray\n",
    "\n",
    "# Construct beamformer\n",
    "stbf = LCMVBeamformer(lead_field=activation_pattern._data,\n",
    "                      cov_estimator=cov_estimator)\n",
    "# Calculate beamformer weiths\n",
    "stbf.fit(epochs.get_data())\n",
    "weights_evoked = EvokedArray(stbf.weights_, epochs.info, epochs.tmin)\n",
    "weights_evoked.plot(**plot_kwargs);\n"
   ],
   "metadata": {
    "collapsed": false,
    "pycharm": {
     "name": "#%%\n",
     "is_executing": true
    }
   }
  },
  {
   "cell_type": "markdown",
   "source": [
    "Om te bepalen welke epochs geselecteerd waren, wordt een score\n",
    "berekend door elke epoch te vermenigvuldigen me $w$.\n",
    "Een hoge score geeft aan dat een epoch waarschijnlijk geselecteerd was, maar zoals te zien\n",
    "op onderstaande grafiek is er veel overlap tussen de scores voor geselecteerde en niet geselecteerde epochs,\n",
    "en dus veel onzekerheid."
   ],
   "metadata": {
    "collapsed": false,
    "pycharm": {
     "name": "#%% md\n"
    }
   }
  },
  {
   "cell_type": "code",
   "execution_count": null,
   "outputs": [],
   "source": [
    "import pandas as pd\n",
    "\n",
    "# Apply beamformer\n",
    "scores = stbf.transform(epochs.get_data()).squeeze()\n",
    "# Construct visualization dataframe from results\n",
    "labels = epochs.metadata['stimulus'] == epochs.metadata['cue']\n",
    "result = pd.DataFrame({\n",
    "    'Score': scores,\n",
    "    'Geselecteerd': labels,\n",
    "})\n",
    "sns.displot(data=result, x='Score', hue='Geselecteerd')\n",
    "plt.show();"
   ],
   "metadata": {
    "collapsed": false,
    "pycharm": {
     "name": "#%%\n",
     "is_executing": true
    }
   }
  },
  {
   "cell_type": "markdown",
   "source": [
    "Daarom wordt er vaak niet gewoon naar de score van een enkel epoch gekeken,\n",
    "maar wordt de stimulatie herhaald en wordt er een score bepaalt voor het gemiddelde\n",
    "van een aantal epochs die telkens een respons op dezelfde stimulatie bevatten.\n",
    "Dit zorgt ervoor dat er veel ruis wegvalt en er een duidelijkere scheiding is\n",
    "tussen geselecteerde en niet geselecteerde epochs."
   ],
   "metadata": {
    "collapsed": false,
    "pycharm": {
     "name": "#%% md\n"
    }
   }
  },
  {
   "cell_type": "code",
   "execution_count": null,
   "outputs": [],
   "source": [
    "import numpy as np\n",
    "\n",
    "# Calculate average response over all runs per stimulus per block\n",
    "avg_meta = epochs.metadata.copy()\n",
    "avg_meta = avg_meta.reset_index()\n",
    "avg_meta = avg_meta.groupby(['block', 'stimulus'], as_index=False)\n",
    "avg_meta = avg_meta.agg({'cue': 'first', 'index': tuple})\n",
    "avg_idc = np.vstack(avg_meta['index'].values)\n",
    "avg_data = np.take(epochs.get_data(), avg_idc, axis=0)\n",
    "avg_data = np.mean(avg_data, axis=1)"
   ],
   "metadata": {
    "collapsed": false,
    "pycharm": {
     "name": "#%%\n",
     "is_executing": true
    }
   }
  },
  {
   "cell_type": "code",
   "execution_count": null,
   "outputs": [],
   "source": [
    "# Apply beamformer to averages\n",
    "avg_scores = stbf.transform(avg_data).squeeze()\n",
    "# Construct visualization dataframe from results\n",
    "avg_labels = avg_meta['stimulus'] == avg_meta['cue']\n",
    "avg_result = pd.DataFrame({\n",
    "    'Score': avg_scores,\n",
    "    'Geselecteerd': avg_labels,\n",
    "})\n",
    "sns.displot(data=avg_result, x='Score', hue='Geselecteerd')\n",
    "plt.show();"
   ],
   "metadata": {
    "collapsed": false,
    "pycharm": {
     "name": "#%%\n",
     "is_executing": true
    }
   }
  },
  {
   "cell_type": "markdown",
   "source": [
    "# Verwijzingen\n",
    "\n",
    "[1] Simões, Marco et al.“BCIAUT-P300: A Multi-Session and Multi-Subject Benchmark Dataset on Autism for P300-Based Brain-Computer-Interfaces.”\n",
    "    Frontiers in neuroscience vol. 14 568104. 18 Sep. 2020,\n",
    "    doi: [10.3389/fnins.2020.568104](https://doi.org/doi:10.3389/fnins.2020.568104)\n",
    "\n",
    "[2] M. Van Vliet et al., “Single-trial erp component analysis using a spatiotemporal lcmv beamformer,”\n",
    "    IEEE Transactions on Biomedical Engineering, vol. 63, no. 1, Art. no. 1, 2015,\n",
    "    doi: [10.1109/tbme.2015.2468588](https://doi.org/10.1109/TBME.2015.2468588).\n",
    "\n",
    "[3] B. Wittevrongel and M. M. Van Hulle, “Faster p300 classifier training using spatiotemporal beamforming,”\n",
    "    International journal of neural systems, vol. 26, no. 03, Art. no. 03, Apr. 2016,\n",
    "    doi: [10.1142/S0129065716500143](https://doi.org/10.1142/S0129065716500143).\n",
    "\n",
    "[4] B. Wittevrongel and M. M. Van Hulle,\n",
    "    “Spatiotemporal beamforming: A transparent and unified decoding approach to synchronous visual Brain-Computer Interfacing,”\n",
    "    Frontiers in neuroscience, vol. 11, p. 630, 2017,\n",
    "    doi: [10.3389/fnins.2017.00630](https://doi.org/10.3389/fnins.2017.00630)."
   ],
   "metadata": {
    "collapsed": false,
    "pycharm": {
     "name": "#%% md\n"
    }
   }
  }
 ],
 "metadata": {
  "kernelspec": {
   "display_name": "Python 3",
   "language": "python",
   "name": "python3"
  },
  "language_info": {
   "codemirror_mode": {
    "name": "ipython",
    "version": 2
   },
   "file_extension": ".py",
   "mimetype": "text/x-python",
   "name": "python",
   "nbconvert_exporter": "python",
   "pygments_lexer": "ipython2",
   "version": "2.7.6"
  }
 },
 "nbformat": 4,
 "nbformat_minor": 0
}